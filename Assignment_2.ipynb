{
  "nbformat": 4,
  "nbformat_minor": 0,
  "metadata": {
    "colab": {
      "name": "Assignment 2.ipynb",
      "provenance": [],
      "authorship_tag": "ABX9TyPJMg3CUGp0hTqBjMo78Rwl",
      "include_colab_link": true
    },
    "kernelspec": {
      "name": "python3",
      "display_name": "Python 3"
    }
  },
  "cells": [
    {
      "cell_type": "markdown",
      "metadata": {
        "id": "view-in-github",
        "colab_type": "text"
      },
      "source": [
        "<a href=\"https://colab.research.google.com/github/Sasikreddy8444/Sasi-Kumar-Reddy/blob/master/Assignment_2.ipynb\" target=\"_parent\"><img src=\"https://colab.research.google.com/assets/colab-badge.svg\" alt=\"Open In Colab\"/></a>"
      ]
    },
    {
      "cell_type": "code",
      "metadata": {
        "id": "KxHHdxmFoZxR",
        "colab_type": "code",
        "colab": {}
      },
      "source": [
        " \n",
        "#1. Voting Eligibility\n",
        "age = int(input(\"Enter your age \"))\n",
        "if(age<18):\n",
        "    print(\" You are not eligible for voting\")\n",
        "else:\n",
        "    print(\"You are eligible for voting\")\n",
        " \n",
        " \n",
        "#2. Even or Odd\n",
        "num = int(input(\"Enter the number \"))\n",
        "if(a==n%2):\n",
        "    print(\"It is a even number\")\n",
        "else:\n",
        "    print(\"it is a odd number\")\n",
        " \n",
        " \n",
        "#3. Reverse of  String\n",
        "s = input(\"Enter the sting \")\n",
        "a = s[::-1]\n",
        "print(\"The reversed string is \",a)\n",
        " \n",
        " \n",
        "#4. Positive or not\n",
        "a= float(input(\"Enter a number \"))\n",
        "if(a>0):\n",
        "    print(\"The number is a positive number\")\n",
        "else:\n",
        "    print(\"The number is NOT a positive number\")\n",
        " \n",
        " \n",
        "#5. Roots of a Quadratic Equation\n",
        "z = print(\"Enter the the quadratic equation's terms respectively\")\n",
        "a=float(input(\"The constant term of x^2 \" ))\n",
        "b=float(input(\"The constant term of x \" ))\n",
        "c=float(input(\"The constant term \"))\n",
        "d = b**2-4*a*c\n",
        "if(d>0):\n",
        "    print(\"The roots are real and distinct\")\n",
        "    print(\"The roots of the equation are \",(-b+d**0.5)/2*a,\",\",(-b-d**0.5)/2*a)\n",
        "elif(d==0):\n",
        "    print(\"The roots are real and equal\")\n",
        "    print(\"The root of the equation is \",-b/2*a)\n",
        "else:\n",
        "    print(\"The roots are imaginary\")\n",
        "    print(\"The roots of the equation are \",(-b+d**0.5)/2*a,\",\",(-b-d**0.5)/2*a)\n",
        " \n",
        " \n",
        "#6. Check the number is positive ,negative or zero\n",
        "n= float(input(\"Enter a number \"))\n",
        "if(n>0):\n",
        "    print(\"The number is a positive number\")\n",
        "elif(n<0):\n",
        "        print(\"The number is a negative number\")\n",
        "    else:\n",
        "        print(\"The number is 0\")\n",
        " \n",
        " \n",
        "#7. Take numbers and print in words\n",
        "#7 print given no\n",
        "\n",
        "n=int(input(\"enter no 1 to 5 \"))\n",
        "number=('','one','two','three','four','five')\n",
        "print(number[n])\n",
        " \n",
        " \n",
        "#8. Vowel or NOT a Vowel\n",
        "z = input(\"Enter a character \")\n",
        "if(z=='A' or z=='E' or z=='I' or z=='O' or z=='U' or z=='a' or z=='e' or z=='i' or z=='o' or z=='u'):\n",
        "    print(z, \"is a Vowel\")\n",
        "else:\n",
        "    print(z, \"is a NOT a Vowel\")"
      ],
      "execution_count": null,
      "outputs": []
    }
  ]
}