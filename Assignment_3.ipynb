{
  "nbformat": 4,
  "nbformat_minor": 0,
  "metadata": {
    "colab": {
      "name": "Assignment 3.ipynb",
      "provenance": [],
      "authorship_tag": "ABX9TyPjaGYwFJlZDJNlqUdj76sZ",
      "include_colab_link": true
    },
    "kernelspec": {
      "name": "python3",
      "display_name": "Python 3"
    }
  },
  "cells": [
    {
      "cell_type": "markdown",
      "metadata": {
        "id": "view-in-github",
        "colab_type": "text"
      },
      "source": [
        "<a href=\"https://colab.research.google.com/github/Sasikreddy8444/Sasi-Kumar-Reddy/blob/master/Assignment_3.ipynb\" target=\"_parent\"><img src=\"https://colab.research.google.com/assets/colab-badge.svg\" alt=\"Open In Colab\"/></a>"
      ]
    },
    {
      "cell_type": "code",
      "metadata": {
        "id": "FvNQe_oiEJ-g",
        "colab_type": "code",
        "colab": {}
      },
      "source": [
        " \n",
        "#1.Finding the area of circle using math moule\n",
        "import math\n",
        "r=float(input(\"enter the radius of circle \"))\n",
        "a=math.pi *(r**2)\n",
        "print(\"the area of circle = \",a)\n",
        "\n",
        "\n",
        "# In[7]:\n",
        "\n",
        "\n",
        "#2.calculating the area of regular polygon using math module\n",
        "import math\n",
        "n=int(input(\"enter the no. of sides of polygon \"))\n",
        "l=float(input(\"enter the length of each side of polygon \"))\n",
        "a=(n*(l**2))/(4*math.tan(math.pi/n))\n",
        "print(\"the area of regular polygon = \",a)\n",
        "\n",
        "\n",
        "# In[8]:\n",
        "\n",
        "\n",
        "#3.calculating the area of segment of circle\n",
        "import math\n",
        "t=float(input(\"enter the angle measure \"))\n",
        "r=float(input(\"enter the radius of circle \"))\n",
        "if t>=360:\n",
        "    print(\"the angle is not possible \")\n",
        "else:\n",
        "    a=(math.pi*(r**2)*(t/360))-((1/2)*(r**2)*math.sin((t*math.pi)/180))\n",
        "    print(\"the area of segment = \",a)\n",
        "\n",
        "\n",
        "# In[9]:\n",
        "\n",
        "\n",
        "#4.generating a random number from the list\n",
        "import random\n",
        "print(\"the random number from the list is \")\n",
        "print(random.choice([100,1,2,3,30,40]))\n",
        "\n",
        "\n",
        "# In[28]:\n",
        "\n",
        "\n",
        "#5.generating random numbers between 1 to 10000 with difference 50\n",
        "import random\n",
        "print(\"the random numbers between 1 to 10000\",random.randrange(1,10000,50))\n",
        "\n",
        "\n",
        "# In[26]:\n",
        "\n",
        "\n",
        "#6.calculating using math module\n",
        "import math\n",
        "print(\"the value of sin(60) is \",math.sin(60))\n",
        "print(\"the value of cos(pi) is \",math.cos(math.pi))\n",
        "print(\"the value of tan(90) is \",math.tan(90))\n",
        "print(\"the angle of sin(0.8660254037844386) is\",math.degrees(math.asin(0.8660254037844386)))\n",
        "print(\"the value of 5^8 is \",5**8)\n",
        "print(\"the value of squareroot of 400 is \",math.sqrt(400))\n",
        "print(\"the value of 5^e is \",5**math.e)\n",
        "print(\"the value of of log(1024) base 2 is \",math.log(1024,(2)))\n",
        "print(\"the value of log(1024) base 10 is \",math.log(1024,(10)))\n",
        "print(\"the floor value of 23.56 is \",math.floor(23.56))\n",
        "print(\"the ceiling value of 23.56 is \",math.ceil(23.56))"
      ],
      "execution_count": null,
      "outputs": []
    }
  ]
}