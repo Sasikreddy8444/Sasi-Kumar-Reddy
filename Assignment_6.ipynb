{
  "nbformat": 4,
  "nbformat_minor": 0,
  "metadata": {
    "colab": {
      "name": "Assignment 6.ipynb",
      "provenance": [],
      "authorship_tag": "ABX9TyMSTNFywTNp+hlD/E6xwtgG",
      "include_colab_link": true
    },
    "kernelspec": {
      "name": "python3",
      "display_name": "Python 3"
    }
  },
  "cells": [
    {
      "cell_type": "markdown",
      "metadata": {
        "id": "view-in-github",
        "colab_type": "text"
      },
      "source": [
        "<a href=\"https://colab.research.google.com/github/Sasikreddy8444/Sasi-Kumar-Reddy/blob/master/Assignment_6.ipynb\" target=\"_parent\"><img src=\"https://colab.research.google.com/assets/colab-badge.svg\" alt=\"Open In Colab\"/></a>"
      ]
    },
    {
      "cell_type": "code",
      "metadata": {
        "id": "S40ne1bEVM6i",
        "colab_type": "code",
        "colab": {}
      },
      "source": [
        " \n",
        "#1.printing integers from 1 to 100\n",
        "ints=[]\n",
        "for i in range(1,101):\n",
        "    if i%3==0 and i%5==0:\n",
        "        ints.append('FizzBuzz')\n",
        "        continue\n",
        "    elif i%3==0:\n",
        "        ints.append('Fizz')\n",
        "        continue\n",
        "    elif i%5==0:\n",
        "        ints.append('Buzz')\n",
        "        continue\n",
        "    else:\n",
        "        ints.append(i)\n",
        "        continue\n",
        "print(ints)\n",
        " \n",
        " \n",
        "# In[18]:\n",
        " \n",
        " \n",
        "#2.removing consecutive duplicates from a list\n",
        "a=(1,1,1,2,2,2,3,3,3)\n",
        "b=[]\n",
        "for i in a:\n",
        "    if i not in b:\n",
        "        b.append(i)\n",
        "        continue\n",
        "print(b)\n",
        " \n",
        " \n",
        "# In[25]:\n",
        " \n",
        " \n",
        "#3.finding a unique element from a given list\n",
        "a=input(\"enter the list : \")\n",
        "b=input(\"enter the element : \")\n",
        "i=0\n",
        "for i in range(len(a)):\n",
        "    if a[i] == b:\n",
        "        print(\"element found at index : \",(i-2))\n",
        "        break\n",
        "    else:\n",
        "        continue\n",
        " \n",
        " \n",
        "# In[33]:\n",
        " \n",
        " \n",
        "#4.finding whether a given number is within range\n",
        "def test_range(a,b,n):\n",
        "    if n in range(a+1,b):\n",
        "        print(\"%s is in range\"%str(n))\n",
        "    else:\n",
        "        print(\"%s is not in given range\"%str(n))\n",
        "n=int(input(\"enter the number : \"))\n",
        "a=int(input(\"enter the lower limit : \"))\n",
        "b=int(input(\"enter the upper limit : \"))\n",
        "test_range(a,b,n)\n",
        " \n",
        " \n",
        "# In[39]:\n",
        " \n",
        " \n",
        "#5.calculating no. of uppercase and lowercase letters in a string\n",
        "a=input(\"enter the string : \")\n",
        "count1=0\n",
        "count2=0\n",
        "for i in a:\n",
        "    if (i.isupper()):\n",
        "        count1=count1+1\n",
        "    elif (i.islower()):\n",
        "        count2=count2+1\n",
        "print(\"the no. of uppercase letters is : \",count1)\n",
        "print(\"the no. of lowercase letters is : \",count2)"
      ],
      "execution_count": null,
      "outputs": []
    }
  ]
}